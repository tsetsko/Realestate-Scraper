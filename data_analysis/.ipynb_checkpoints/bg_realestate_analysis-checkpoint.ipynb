{
 "cells": [
  {
   "cell_type": "markdown",
   "id": "6718b3c1",
   "metadata": {},
   "source": [
    "# Analyse the Sofia Area Realestate Market"
   ]
  },
  {
   "cell_type": "markdown",
   "id": "fed78992",
   "metadata": {},
   "source": [
    "Importing the database containing all the data"
   ]
  },
  {
   "cell_type": "code",
   "execution_count": 1,
   "id": "859f0c2e",
   "metadata": {},
   "outputs": [
    {
     "data": {
      "text/html": [
       "<div>\n",
       "<style scoped>\n",
       "    .dataframe tbody tr th:only-of-type {\n",
       "        vertical-align: middle;\n",
       "    }\n",
       "\n",
       "    .dataframe tbody tr th {\n",
       "        vertical-align: top;\n",
       "    }\n",
       "\n",
       "    .dataframe thead th {\n",
       "        text-align: right;\n",
       "    }\n",
       "</style>\n",
       "<table border=\"1\" class=\"dataframe\">\n",
       "  <thead>\n",
       "    <tr style=\"text-align: right;\">\n",
       "      <th></th>\n",
       "      <th>id</th>\n",
       "      <th>date</th>\n",
       "      <th>type_of_property</th>\n",
       "      <th>area</th>\n",
       "      <th>city_or_province</th>\n",
       "      <th>location</th>\n",
       "      <th>price_per_m2</th>\n",
       "      <th>total_price</th>\n",
       "      <th>published_by</th>\n",
       "      <th>description</th>\n",
       "      <th>link</th>\n",
       "    </tr>\n",
       "  </thead>\n",
       "  <tbody>\n",
       "    <tr>\n",
       "      <th>0</th>\n",
       "      <td>5516599</td>\n",
       "      <td>20211118</td>\n",
       "      <td>Парцел</td>\n",
       "      <td>543</td>\n",
       "      <td>София</td>\n",
       "      <td>Сердика</td>\n",
       "      <td>3</td>\n",
       "      <td>401</td>\n",
       "      <td>частно лице</td>\n",
       "      <td>Парцел, свободен от сгради, двама собственици,...</td>\n",
       "      <td>https://www.imoti.net/bg/obiava/prodava/sofia/...</td>\n",
       "    </tr>\n",
       "    <tr>\n",
       "      <th>1</th>\n",
       "      <td>3491291</td>\n",
       "      <td>20211118</td>\n",
       "      <td>Вила</td>\n",
       "      <td>26</td>\n",
       "      <td>София област</td>\n",
       "      <td>с.Скравена</td>\n",
       "      <td>456</td>\n",
       "      <td>870</td>\n",
       "      <td>ЦКБ АД</td>\n",
       "      <td>Поземлен имот целият с площ от 600.26 кв. м, з...</td>\n",
       "      <td>https://www.imoti.net/bg/obiava/prodava/s-skra...</td>\n",
       "    </tr>\n",
       "    <tr>\n",
       "      <th>2</th>\n",
       "      <td>5404649</td>\n",
       "      <td>20211118</td>\n",
       "      <td>Ателие</td>\n",
       "      <td>-2</td>\n",
       "      <td>София</td>\n",
       "      <td>Толстой</td>\n",
       "      <td>1408</td>\n",
       "      <td>916</td>\n",
       "      <td>Ависта Офис Експерт</td>\n",
       "      <td>Продава се Ателие за живеене в жк. Толстой, за...</td>\n",
       "      <td>https://www.imoti.net/bg/obiava/prodava/sofia/...</td>\n",
       "    </tr>\n",
       "    <tr>\n",
       "      <th>3</th>\n",
       "      <td>5478372</td>\n",
       "      <td>20211118</td>\n",
       "      <td>Гараж</td>\n",
       "      <td>-1</td>\n",
       "      <td>София</td>\n",
       "      <td>Суха Река</td>\n",
       "      <td>625</td>\n",
       "      <td>25</td>\n",
       "      <td>Ани Александра</td>\n",
       "      <td>Продавам обширен и светъл гараж със санитарен ...</td>\n",
       "      <td>https://www.imoti.net/bg/obiava/prodava/sofia/...</td>\n",
       "    </tr>\n",
       "    <tr>\n",
       "      <th>4</th>\n",
       "      <td>5564377</td>\n",
       "      <td>20211118</td>\n",
       "      <td>Парцел</td>\n",
       "      <td>1756</td>\n",
       "      <td>София област</td>\n",
       "      <td>гр. Костинброд</td>\n",
       "      <td>18</td>\n",
       "      <td>1020</td>\n",
       "      <td>Dekris</td>\n",
       "      <td>Представяме ви,за продажба атрактивен парцел в...</td>\n",
       "      <td>https://www.imoti.net/bg/obiava/prodava/gr-kos...</td>\n",
       "    </tr>\n",
       "  </tbody>\n",
       "</table>\n",
       "</div>"
      ],
      "text/plain": [
       "        id      date type_of_property  area city_or_province        location  \\\n",
       "0  5516599  20211118           Парцел   543            София         Сердика   \n",
       "1  3491291  20211118             Вила    26     София област      с.Скравена   \n",
       "2  5404649  20211118           Ателие    -2            София         Толстой   \n",
       "3  5478372  20211118            Гараж    -1            София       Суха Река   \n",
       "4  5564377  20211118           Парцел  1756     София област  гр. Костинброд   \n",
       "\n",
       "   price_per_m2  total_price         published_by  \\\n",
       "0             3          401          частно лице   \n",
       "1           456          870               ЦКБ АД   \n",
       "2          1408          916  Ависта Офис Експерт   \n",
       "3           625           25       Ани Александра   \n",
       "4            18         1020               Dekris   \n",
       "\n",
       "                                         description  \\\n",
       "0  Парцел, свободен от сгради, двама собственици,...   \n",
       "1  Поземлен имот целият с площ от 600.26 кв. м, з...   \n",
       "2  Продава се Ателие за живеене в жк. Толстой, за...   \n",
       "3  Продавам обширен и светъл гараж със санитарен ...   \n",
       "4  Представяме ви,за продажба атрактивен парцел в...   \n",
       "\n",
       "                                                link  \n",
       "0  https://www.imoti.net/bg/obiava/prodava/sofia/...  \n",
       "1  https://www.imoti.net/bg/obiava/prodava/s-skra...  \n",
       "2  https://www.imoti.net/bg/obiava/prodava/sofia/...  \n",
       "3  https://www.imoti.net/bg/obiava/prodava/sofia/...  \n",
       "4  https://www.imoti.net/bg/obiava/prodava/gr-kos...  "
      ]
     },
     "execution_count": 1,
     "metadata": {},
     "output_type": "execute_result"
    }
   ],
   "source": [
    "import pandas as pd\n",
    "import os\n",
    "dataset_original = pd.read_csv('/Users/tdonov/Desktop/Python/Realestate Scraper/master_data_for_realestate.csv')\n",
    "dataset_original.head()"
   ]
  },
  {
   "cell_type": "markdown",
   "id": "6242d17e",
   "metadata": {},
   "source": [
    "# Get the data into a new dataframe so we don't mess up the original data."
   ]
  },
  {
   "cell_type": "code",
   "execution_count": 2,
   "id": "6912ef55",
   "metadata": {},
   "outputs": [],
   "source": [
    "dataset = dataset_original.copy()"
   ]
  },
  {
   "cell_type": "markdown",
   "id": "e9a23475",
   "metadata": {},
   "source": [
    "See the columns"
   ]
  },
  {
   "cell_type": "code",
   "execution_count": 3,
   "id": "4fe861b4",
   "metadata": {},
   "outputs": [
    {
     "data": {
      "text/plain": [
       "Index(['id', 'date', 'type_of_property', 'area', 'city_or_province',\n",
       "       'location', 'price_per_m2', 'total_price', 'published_by',\n",
       "       'description', 'link'],\n",
       "      dtype='object')"
      ]
     },
     "execution_count": 3,
     "metadata": {},
     "output_type": "execute_result"
    }
   ],
   "source": [
    "dataset.columns"
   ]
  },
  {
   "cell_type": "code",
   "execution_count": 2,
   "id": "02a001b6",
   "metadata": {},
   "outputs": [
    {
     "ename": "NameError",
     "evalue": "name 'dataset' is not defined",
     "output_type": "error",
     "traceback": [
      "\u001b[0;31m---------------------------------------------------------------------------\u001b[0m",
      "\u001b[0;31mNameError\u001b[0m                                 Traceback (most recent call last)",
      "\u001b[0;32m<ipython-input-2-7d3000d333f1>\u001b[0m in \u001b[0;36m<module>\u001b[0;34m\u001b[0m\n\u001b[1;32m      1\u001b[0m \u001b[0mcolumns_to_drop\u001b[0m \u001b[0;34m=\u001b[0m \u001b[0;34m[\u001b[0m\u001b[0;34m'description'\u001b[0m\u001b[0;34m,\u001b[0m \u001b[0;34m'link'\u001b[0m\u001b[0;34m]\u001b[0m\u001b[0;34m\u001b[0m\u001b[0;34m\u001b[0m\u001b[0m\n\u001b[0;32m----> 2\u001b[0;31m \u001b[0mdataset\u001b[0m \u001b[0;34m=\u001b[0m \u001b[0mdataset\u001b[0m\u001b[0;34m.\u001b[0m\u001b[0mdrop\u001b[0m\u001b[0;34m(\u001b[0m\u001b[0mcolumns\u001b[0m\u001b[0;34m=\u001b[0m\u001b[0mcolumns_to_drop\u001b[0m\u001b[0;34m)\u001b[0m\u001b[0;34m\u001b[0m\u001b[0;34m\u001b[0m\u001b[0m\n\u001b[0m\u001b[1;32m      3\u001b[0m \u001b[0mdataset\u001b[0m\u001b[0;34m\u001b[0m\u001b[0;34m\u001b[0m\u001b[0m\n",
      "\u001b[0;31mNameError\u001b[0m: name 'dataset' is not defined"
     ]
    }
   ],
   "source": [
    "columns_to_drop = ['description', 'link']\n",
    "dataset = dataset.drop(columns=columns_to_drop)\n",
    "dataset"
   ]
  },
  {
   "cell_type": "code",
   "execution_count": 2,
   "id": "13bcb3aa",
   "metadata": {},
   "outputs": [
    {
     "ename": "NameError",
     "evalue": "name 'dataset' is not defined",
     "output_type": "error",
     "traceback": [
      "\u001b[0;31m---------------------------------------------------------------------------\u001b[0m",
      "\u001b[0;31mNameError\u001b[0m                                 Traceback (most recent call last)",
      "\u001b[0;32m<ipython-input-2-482586357ce0>\u001b[0m in \u001b[0;36m<module>\u001b[0;34m\u001b[0m\n\u001b[1;32m      1\u001b[0m \u001b[0;31m# dataset.groupby(['type_of_property'])['id'].count().reset_index()\u001b[0m\u001b[0;34m\u001b[0m\u001b[0;34m\u001b[0m\u001b[0;34m\u001b[0m\u001b[0m\n\u001b[0;32m----> 2\u001b[0;31m \u001b[0mdataset_sofia\u001b[0m \u001b[0;34m=\u001b[0m \u001b[0mdataset\u001b[0m\u001b[0;34m.\u001b[0m\u001b[0mloc\u001b[0m\u001b[0;34m[\u001b[0m\u001b[0;34m[\u001b[0m\u001b[0;34m'city_or_province'\u001b[0m\u001b[0;34m]\u001b[0m \u001b[0;34m==\u001b[0m \u001b[0;34m\"София\"\u001b[0m\u001b[0;34m]\u001b[0m\u001b[0;34m\u001b[0m\u001b[0;34m\u001b[0m\u001b[0m\n\u001b[0m\u001b[1;32m      3\u001b[0m \u001b[0mdataset_sofia_province\u001b[0m \u001b[0;34m=\u001b[0m \u001b[0mdataset\u001b[0m\u001b[0;34m.\u001b[0m\u001b[0mloc\u001b[0m\u001b[0;34m[\u001b[0m\u001b[0;34m[\u001b[0m\u001b[0;34m'city_or_province'\u001b[0m\u001b[0;34m]\u001b[0m \u001b[0;34m!=\u001b[0m \u001b[0;34m\"София\"\u001b[0m\u001b[0;34m]\u001b[0m\u001b[0;34m\u001b[0m\u001b[0;34m\u001b[0m\u001b[0m\n",
      "\u001b[0;31mNameError\u001b[0m: name 'dataset' is not defined"
     ]
    }
   ],
   "source": [
    "# dataset.groupby(['type_of_property'])['id'].count().reset_index()\n",
    "dataset_sofia = dataset.loc[dataset['city_or_province'] == \"София\"].reset_index()\n",
    "dataset_sofia_province = dataset.loc[dataset['city_or_province'] != \"София\"].reset_index()\n",
    "dataset_sofia\n",
    "dataset_sofia_province"
   ]
  }
 ],
 "metadata": {
  "kernelspec": {
   "display_name": "Python 3",
   "language": "python",
   "name": "python3"
  },
  "language_info": {
   "codemirror_mode": {
    "name": "ipython",
    "version": 3
   },
   "file_extension": ".py",
   "mimetype": "text/x-python",
   "name": "python",
   "nbconvert_exporter": "python",
   "pygments_lexer": "ipython3",
   "version": "3.8.8"
  }
 },
 "nbformat": 4,
 "nbformat_minor": 5
}
