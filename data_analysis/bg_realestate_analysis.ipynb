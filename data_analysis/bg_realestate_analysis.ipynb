{
 "cells": [
  {
   "cell_type": "markdown",
   "id": "6718b3c1",
   "metadata": {},
   "source": [
    "# Analyse the Sofia Area Realestate Market"
   ]
  },
  {
   "cell_type": "markdown",
   "id": "fed78992",
   "metadata": {},
   "source": [
    "Importing the database containing all the data"
   ]
  },
  {
   "cell_type": "code",
   "execution_count": 1,
   "id": "859f0c2e",
   "metadata": {},
   "outputs": [
    {
     "data": {
      "text/plain": "        id      date type_of_property    area city_or_province  \\\n0  5516599  20211122           Парцел   543.0            София   \n1  3491291  20211122             Вила    26.0     София област   \n2  5404649  20211122           Ателие    -2.0            София   \n3  5565213  20211122             Офис    10.0            София   \n4  5564377  20211122           Парцел  1756.0     София област   \n\n         location  price_per_m2  total_price         published_by  \\\n0         Сердика           3.0         1400          частно лице   \n1      с.Скравена         456.0        11859               ЦКБ АД   \n2         Толстой        1408.0        16900  Ависта Офис Експерт   \n3       Надежда 1        2000.0        20000           АГРО ИМОТИ   \n4  гр. Костинброд          18.0        30990               Dekris   \n\n                                         description  \\\n0  Парцел, свободен от сгради, двама собственици,...   \n1  Поземлен имот целият с площ от 600.26 кв. м, з...   \n2  Продава се Ателие за живеене в жк. Толстой, за...   \n3  Предлагам на вашето внимание обзаведен офис го...   \n4  Представяме ви,за продажба атрактивен парцел в...   \n\n                                                link  \n0  https://www.imoti.net/bg/obiava/prodava/sofia/...  \n1  https://www.imoti.net/bg/obiava/prodava/s-skra...  \n2  https://www.imoti.net/bg/obiava/prodava/sofia/...  \n3  https://www.imoti.net/bg/obiava/prodava/sofia/...  \n4  https://www.imoti.net/bg/obiava/prodava/gr-kos...  ",
      "text/html": "<div>\n<style scoped>\n    .dataframe tbody tr th:only-of-type {\n        vertical-align: middle;\n    }\n\n    .dataframe tbody tr th {\n        vertical-align: top;\n    }\n\n    .dataframe thead th {\n        text-align: right;\n    }\n</style>\n<table border=\"1\" class=\"dataframe\">\n  <thead>\n    <tr style=\"text-align: right;\">\n      <th></th>\n      <th>id</th>\n      <th>date</th>\n      <th>type_of_property</th>\n      <th>area</th>\n      <th>city_or_province</th>\n      <th>location</th>\n      <th>price_per_m2</th>\n      <th>total_price</th>\n      <th>published_by</th>\n      <th>description</th>\n      <th>link</th>\n    </tr>\n  </thead>\n  <tbody>\n    <tr>\n      <th>0</th>\n      <td>5516599</td>\n      <td>20211122</td>\n      <td>Парцел</td>\n      <td>543.0</td>\n      <td>София</td>\n      <td>Сердика</td>\n      <td>3.0</td>\n      <td>1400</td>\n      <td>частно лице</td>\n      <td>Парцел, свободен от сгради, двама собственици,...</td>\n      <td>https://www.imoti.net/bg/obiava/prodava/sofia/...</td>\n    </tr>\n    <tr>\n      <th>1</th>\n      <td>3491291</td>\n      <td>20211122</td>\n      <td>Вила</td>\n      <td>26.0</td>\n      <td>София област</td>\n      <td>с.Скравена</td>\n      <td>456.0</td>\n      <td>11859</td>\n      <td>ЦКБ АД</td>\n      <td>Поземлен имот целият с площ от 600.26 кв. м, з...</td>\n      <td>https://www.imoti.net/bg/obiava/prodava/s-skra...</td>\n    </tr>\n    <tr>\n      <th>2</th>\n      <td>5404649</td>\n      <td>20211122</td>\n      <td>Ателие</td>\n      <td>-2.0</td>\n      <td>София</td>\n      <td>Толстой</td>\n      <td>1408.0</td>\n      <td>16900</td>\n      <td>Ависта Офис Експерт</td>\n      <td>Продава се Ателие за живеене в жк. Толстой, за...</td>\n      <td>https://www.imoti.net/bg/obiava/prodava/sofia/...</td>\n    </tr>\n    <tr>\n      <th>3</th>\n      <td>5565213</td>\n      <td>20211122</td>\n      <td>Офис</td>\n      <td>10.0</td>\n      <td>София</td>\n      <td>Надежда 1</td>\n      <td>2000.0</td>\n      <td>20000</td>\n      <td>АГРО ИМОТИ</td>\n      <td>Предлагам на вашето внимание обзаведен офис го...</td>\n      <td>https://www.imoti.net/bg/obiava/prodava/sofia/...</td>\n    </tr>\n    <tr>\n      <th>4</th>\n      <td>5564377</td>\n      <td>20211122</td>\n      <td>Парцел</td>\n      <td>1756.0</td>\n      <td>София област</td>\n      <td>гр. Костинброд</td>\n      <td>18.0</td>\n      <td>30990</td>\n      <td>Dekris</td>\n      <td>Представяме ви,за продажба атрактивен парцел в...</td>\n      <td>https://www.imoti.net/bg/obiava/prodava/gr-kos...</td>\n    </tr>\n  </tbody>\n</table>\n</div>"
     },
     "execution_count": 1,
     "metadata": {},
     "output_type": "execute_result"
    }
   ],
   "source": [
    "import pandas as pd\n",
    "import os\n",
    "dataset_original = pd.read_csv('/Users/tdonov/Desktop/Python/Realestate Scraper/master_data_for_realestate.csv')\n",
    "dataset_original.head()"
   ]
  },
  {
   "cell_type": "markdown",
   "id": "6242d17e",
   "metadata": {},
   "source": [
    "# Get the data into a new dataframe so we don't mess up the original data."
   ]
  },
  {
   "cell_type": "code",
   "execution_count": 3,
   "id": "6912ef55",
   "metadata": {},
   "outputs": [],
   "source": [
    "dataset = dataset_original.copy()"
   ]
  },
  {
   "cell_type": "markdown",
   "id": "5414c23b",
   "metadata": {},
   "source": [
    "See the columns"
   ]
  },
  {
   "cell_type": "code",
   "execution_count": 4,
   "id": "335aed6b",
   "metadata": {},
   "outputs": [
    {
     "data": {
      "text/plain": "Index(['id', 'date', 'type_of_property', 'area', 'city_or_province',\n       'location', 'price_per_m2', 'total_price', 'published_by',\n       'description', 'link'],\n      dtype='object')"
     },
     "execution_count": 4,
     "metadata": {},
     "output_type": "execute_result"
    }
   ],
   "source": [
    "dataset.columns"
   ]
  },
  {
   "cell_type": "code",
   "execution_count": 5,
   "id": "90e8957a",
   "metadata": {},
   "outputs": [
    {
     "data": {
      "text/plain": "            id      date        type_of_property     area city_or_province  \\\n0      5516599  20211122                  Парцел    543.0            София   \n1      3491291  20211122                    Вила     26.0     София област   \n2      5404649  20211122                  Ателие     -2.0            София   \n3      5565213  20211122                    Офис     10.0            София   \n4      5564377  20211122                  Парцел   1756.0     София област   \n...        ...       ...                     ...      ...              ...   \n49411  4179183  20211128  Четиристаен апартамент    231.0            София   \n49412  2429168  20211128                    Офис   1416.0            София   \n49413  5166322  20211128                  Парцел  10000.0     София област   \n49414  3901428  20211128                  Парцел  14410.0            София   \n49415  4350967  20211128                  Сграда  12962.0            София   \n\n             location  price_per_m2  total_price          published_by  \n0             Сердика           3.0         1400           частно лице  \n1          с.Скравена         456.0        11859                ЦКБ АД  \n2             Толстой        1408.0        16900   Ависта Офис Експерт  \n3           Надежда 1        2000.0        20000            АГРО ИМОТИ  \n4      гр. Костинброд          18.0        30990                Dekris  \n...               ...           ...          ...                   ...  \n49411          Център           0.0           -1  BULGARIAN PROPERTIES  \n49412    Бункера в.з.           0.0           -1              Имоти БГ  \n49413     гр. Самоков           0.0           -1           SUPER ИМОТИ  \n49414      Овча Купел           0.0           -1          Явлена София  \n49415      Горна Баня           0.0           -1          Явлена София  \n\n[49416 rows x 9 columns]",
      "text/html": "<div>\n<style scoped>\n    .dataframe tbody tr th:only-of-type {\n        vertical-align: middle;\n    }\n\n    .dataframe tbody tr th {\n        vertical-align: top;\n    }\n\n    .dataframe thead th {\n        text-align: right;\n    }\n</style>\n<table border=\"1\" class=\"dataframe\">\n  <thead>\n    <tr style=\"text-align: right;\">\n      <th></th>\n      <th>id</th>\n      <th>date</th>\n      <th>type_of_property</th>\n      <th>area</th>\n      <th>city_or_province</th>\n      <th>location</th>\n      <th>price_per_m2</th>\n      <th>total_price</th>\n      <th>published_by</th>\n    </tr>\n  </thead>\n  <tbody>\n    <tr>\n      <th>0</th>\n      <td>5516599</td>\n      <td>20211122</td>\n      <td>Парцел</td>\n      <td>543.0</td>\n      <td>София</td>\n      <td>Сердика</td>\n      <td>3.0</td>\n      <td>1400</td>\n      <td>частно лице</td>\n    </tr>\n    <tr>\n      <th>1</th>\n      <td>3491291</td>\n      <td>20211122</td>\n      <td>Вила</td>\n      <td>26.0</td>\n      <td>София област</td>\n      <td>с.Скравена</td>\n      <td>456.0</td>\n      <td>11859</td>\n      <td>ЦКБ АД</td>\n    </tr>\n    <tr>\n      <th>2</th>\n      <td>5404649</td>\n      <td>20211122</td>\n      <td>Ателие</td>\n      <td>-2.0</td>\n      <td>София</td>\n      <td>Толстой</td>\n      <td>1408.0</td>\n      <td>16900</td>\n      <td>Ависта Офис Експерт</td>\n    </tr>\n    <tr>\n      <th>3</th>\n      <td>5565213</td>\n      <td>20211122</td>\n      <td>Офис</td>\n      <td>10.0</td>\n      <td>София</td>\n      <td>Надежда 1</td>\n      <td>2000.0</td>\n      <td>20000</td>\n      <td>АГРО ИМОТИ</td>\n    </tr>\n    <tr>\n      <th>4</th>\n      <td>5564377</td>\n      <td>20211122</td>\n      <td>Парцел</td>\n      <td>1756.0</td>\n      <td>София област</td>\n      <td>гр. Костинброд</td>\n      <td>18.0</td>\n      <td>30990</td>\n      <td>Dekris</td>\n    </tr>\n    <tr>\n      <th>...</th>\n      <td>...</td>\n      <td>...</td>\n      <td>...</td>\n      <td>...</td>\n      <td>...</td>\n      <td>...</td>\n      <td>...</td>\n      <td>...</td>\n      <td>...</td>\n    </tr>\n    <tr>\n      <th>49411</th>\n      <td>4179183</td>\n      <td>20211128</td>\n      <td>Четиристаен апартамент</td>\n      <td>231.0</td>\n      <td>София</td>\n      <td>Център</td>\n      <td>0.0</td>\n      <td>-1</td>\n      <td>BULGARIAN PROPERTIES</td>\n    </tr>\n    <tr>\n      <th>49412</th>\n      <td>2429168</td>\n      <td>20211128</td>\n      <td>Офис</td>\n      <td>1416.0</td>\n      <td>София</td>\n      <td>Бункера в.з.</td>\n      <td>0.0</td>\n      <td>-1</td>\n      <td>Имоти БГ</td>\n    </tr>\n    <tr>\n      <th>49413</th>\n      <td>5166322</td>\n      <td>20211128</td>\n      <td>Парцел</td>\n      <td>10000.0</td>\n      <td>София област</td>\n      <td>гр. Самоков</td>\n      <td>0.0</td>\n      <td>-1</td>\n      <td>SUPER ИМОТИ</td>\n    </tr>\n    <tr>\n      <th>49414</th>\n      <td>3901428</td>\n      <td>20211128</td>\n      <td>Парцел</td>\n      <td>14410.0</td>\n      <td>София</td>\n      <td>Овча Купел</td>\n      <td>0.0</td>\n      <td>-1</td>\n      <td>Явлена София</td>\n    </tr>\n    <tr>\n      <th>49415</th>\n      <td>4350967</td>\n      <td>20211128</td>\n      <td>Сграда</td>\n      <td>12962.0</td>\n      <td>София</td>\n      <td>Горна Баня</td>\n      <td>0.0</td>\n      <td>-1</td>\n      <td>Явлена София</td>\n    </tr>\n  </tbody>\n</table>\n<p>49416 rows × 9 columns</p>\n</div>"
     },
     "execution_count": 5,
     "metadata": {},
     "output_type": "execute_result"
    }
   ],
   "source": [
    "columns_to_drop = ['description', 'link']\n",
    "dataset = dataset.drop(columns=columns_to_drop)\n",
    "dataset"
   ]
  },
  {
   "cell_type": "code",
   "execution_count": 6,
   "id": "fee954c6",
   "metadata": {},
   "outputs": [
    {
     "data": {
      "text/plain": "      index       id      date     type_of_property     area city_or_province  \\\n0         1  3491291  20211122                 Вила     26.0     София област   \n1         4  5564377  20211122               Парцел   1756.0     София област   \n2         5  5562422  20211122               Парцел   1332.0     София област   \n3         6  5562462  20211122               Парцел   1675.0     София област   \n4        14  5550443  20211122  Тристаен апартамент    102.0     София област   \n...     ...      ...       ...                  ...      ...              ...   \n6834  49390  1900483  20211128               Парцел   3000.0     София област   \n6835  49400  5004498  20211128       Промишлен имот    819.0     София област   \n6836  49402  5004504  20211128               Парцел  20284.0     София област   \n6837  49405  3522267  20211128      Земеделски имот  16000.0     София област   \n6838  49413  5166322  20211128               Парцел  10000.0     София област   \n\n                  location  price_per_m2  total_price  \\\n0               с.Скравена         456.0        11859   \n1           гр. Костинброд          18.0        30990   \n2                 с.Петърч          34.0        44990   \n3                 с.Петърч          27.0        44990   \n4              гр. Самоков         625.0        63750   \n...                    ...           ...          ...   \n6834  м-т.Щъркелово гнездо           0.0           -1   \n6835        гр. Копривщица           0.0           -1   \n6836           гр. Самоков           0.0           -1   \n6837            с.Хераково           0.0           -1   \n6838           гр. Самоков           0.0           -1   \n\n                           published_by  \n0                                ЦКБ АД  \n1                                Dekris  \n2                   РИЪЛНЕТ ОФИС КЛАСИК  \n3                   РИЪЛНЕТ ОФИС КЛАСИК  \n4                           частно лице  \n...                                 ...  \n6834                            Съншайн  \n6835  Супер Боровец Пропърти Фонд АДСИЦ  \n6836  Супер Боровец Пропърти Фонд АДСИЦ  \n6837                             Еколит  \n6838                        SUPER ИМОТИ  \n\n[6839 rows x 10 columns]",
      "text/html": "<div>\n<style scoped>\n    .dataframe tbody tr th:only-of-type {\n        vertical-align: middle;\n    }\n\n    .dataframe tbody tr th {\n        vertical-align: top;\n    }\n\n    .dataframe thead th {\n        text-align: right;\n    }\n</style>\n<table border=\"1\" class=\"dataframe\">\n  <thead>\n    <tr style=\"text-align: right;\">\n      <th></th>\n      <th>index</th>\n      <th>id</th>\n      <th>date</th>\n      <th>type_of_property</th>\n      <th>area</th>\n      <th>city_or_province</th>\n      <th>location</th>\n      <th>price_per_m2</th>\n      <th>total_price</th>\n      <th>published_by</th>\n    </tr>\n  </thead>\n  <tbody>\n    <tr>\n      <th>0</th>\n      <td>1</td>\n      <td>3491291</td>\n      <td>20211122</td>\n      <td>Вила</td>\n      <td>26.0</td>\n      <td>София област</td>\n      <td>с.Скравена</td>\n      <td>456.0</td>\n      <td>11859</td>\n      <td>ЦКБ АД</td>\n    </tr>\n    <tr>\n      <th>1</th>\n      <td>4</td>\n      <td>5564377</td>\n      <td>20211122</td>\n      <td>Парцел</td>\n      <td>1756.0</td>\n      <td>София област</td>\n      <td>гр. Костинброд</td>\n      <td>18.0</td>\n      <td>30990</td>\n      <td>Dekris</td>\n    </tr>\n    <tr>\n      <th>2</th>\n      <td>5</td>\n      <td>5562422</td>\n      <td>20211122</td>\n      <td>Парцел</td>\n      <td>1332.0</td>\n      <td>София област</td>\n      <td>с.Петърч</td>\n      <td>34.0</td>\n      <td>44990</td>\n      <td>РИЪЛНЕТ ОФИС КЛАСИК</td>\n    </tr>\n    <tr>\n      <th>3</th>\n      <td>6</td>\n      <td>5562462</td>\n      <td>20211122</td>\n      <td>Парцел</td>\n      <td>1675.0</td>\n      <td>София област</td>\n      <td>с.Петърч</td>\n      <td>27.0</td>\n      <td>44990</td>\n      <td>РИЪЛНЕТ ОФИС КЛАСИК</td>\n    </tr>\n    <tr>\n      <th>4</th>\n      <td>14</td>\n      <td>5550443</td>\n      <td>20211122</td>\n      <td>Тристаен апартамент</td>\n      <td>102.0</td>\n      <td>София област</td>\n      <td>гр. Самоков</td>\n      <td>625.0</td>\n      <td>63750</td>\n      <td>частно лице</td>\n    </tr>\n    <tr>\n      <th>...</th>\n      <td>...</td>\n      <td>...</td>\n      <td>...</td>\n      <td>...</td>\n      <td>...</td>\n      <td>...</td>\n      <td>...</td>\n      <td>...</td>\n      <td>...</td>\n      <td>...</td>\n    </tr>\n    <tr>\n      <th>6834</th>\n      <td>49390</td>\n      <td>1900483</td>\n      <td>20211128</td>\n      <td>Парцел</td>\n      <td>3000.0</td>\n      <td>София област</td>\n      <td>м-т.Щъркелово гнездо</td>\n      <td>0.0</td>\n      <td>-1</td>\n      <td>Съншайн</td>\n    </tr>\n    <tr>\n      <th>6835</th>\n      <td>49400</td>\n      <td>5004498</td>\n      <td>20211128</td>\n      <td>Промишлен имот</td>\n      <td>819.0</td>\n      <td>София област</td>\n      <td>гр. Копривщица</td>\n      <td>0.0</td>\n      <td>-1</td>\n      <td>Супер Боровец Пропърти Фонд АДСИЦ</td>\n    </tr>\n    <tr>\n      <th>6836</th>\n      <td>49402</td>\n      <td>5004504</td>\n      <td>20211128</td>\n      <td>Парцел</td>\n      <td>20284.0</td>\n      <td>София област</td>\n      <td>гр. Самоков</td>\n      <td>0.0</td>\n      <td>-1</td>\n      <td>Супер Боровец Пропърти Фонд АДСИЦ</td>\n    </tr>\n    <tr>\n      <th>6837</th>\n      <td>49405</td>\n      <td>3522267</td>\n      <td>20211128</td>\n      <td>Земеделски имот</td>\n      <td>16000.0</td>\n      <td>София област</td>\n      <td>с.Хераково</td>\n      <td>0.0</td>\n      <td>-1</td>\n      <td>Еколит</td>\n    </tr>\n    <tr>\n      <th>6838</th>\n      <td>49413</td>\n      <td>5166322</td>\n      <td>20211128</td>\n      <td>Парцел</td>\n      <td>10000.0</td>\n      <td>София област</td>\n      <td>гр. Самоков</td>\n      <td>0.0</td>\n      <td>-1</td>\n      <td>SUPER ИМОТИ</td>\n    </tr>\n  </tbody>\n</table>\n<p>6839 rows × 10 columns</p>\n</div>"
     },
     "execution_count": 6,
     "metadata": {},
     "output_type": "execute_result"
    }
   ],
   "source": [
    "# dataset.groupby(['type_of_property'])['id'].count().reset_index()\n",
    "dataset_sofia = dataset.loc[dataset['city_or_province'] == \"София\"].reset_index()\n",
    "dataset_sofia_province = dataset.loc[dataset['city_or_province'] != \"София\"].reset_index()\n",
    "dataset_sofia\n",
    "dataset_sofia_province"
   ]
  },
  {
   "cell_type": "code",
   "execution_count": 6,
   "id": "d40f8d82",
   "metadata": {},
   "outputs": [
    {
     "data": {
      "text/html": [
       "<div>\n",
       "<style scoped>\n",
       "    .dataframe tbody tr th:only-of-type {\n",
       "        vertical-align: middle;\n",
       "    }\n",
       "\n",
       "    .dataframe tbody tr th {\n",
       "        vertical-align: top;\n",
       "    }\n",
       "\n",
       "    .dataframe thead th {\n",
       "        text-align: right;\n",
       "    }\n",
       "</style>\n",
       "<table border=\"1\" class=\"dataframe\">\n",
       "  <thead>\n",
       "    <tr style=\"text-align: right;\">\n",
       "      <th></th>\n",
       "      <th>index</th>\n",
       "      <th>id</th>\n",
       "      <th>date</th>\n",
       "      <th>type_of_property</th>\n",
       "      <th>area</th>\n",
       "      <th>city_or_province</th>\n",
       "      <th>location</th>\n",
       "      <th>price_per_m2</th>\n",
       "      <th>total_price</th>\n",
       "      <th>published_by</th>\n",
       "    </tr>\n",
       "  </thead>\n",
       "  <tbody>\n",
       "    <tr>\n",
       "      <th>0</th>\n",
       "      <td>0</td>\n",
       "      <td>5516599</td>\n",
       "      <td>20211118</td>\n",
       "      <td>Парцел</td>\n",
       "      <td>543</td>\n",
       "      <td>София</td>\n",
       "      <td>Сердика</td>\n",
       "      <td>3</td>\n",
       "      <td>401</td>\n",
       "      <td>частно лице</td>\n",
       "    </tr>\n",
       "    <tr>\n",
       "      <th>1</th>\n",
       "      <td>2</td>\n",
       "      <td>5404649</td>\n",
       "      <td>20211118</td>\n",
       "      <td>Ателие</td>\n",
       "      <td>-2</td>\n",
       "      <td>София</td>\n",
       "      <td>Толстой</td>\n",
       "      <td>1408</td>\n",
       "      <td>916</td>\n",
       "      <td>Ависта Офис Експерт</td>\n",
       "    </tr>\n",
       "    <tr>\n",
       "      <th>2</th>\n",
       "      <td>3</td>\n",
       "      <td>5478372</td>\n",
       "      <td>20211118</td>\n",
       "      <td>Гараж</td>\n",
       "      <td>-1</td>\n",
       "      <td>София</td>\n",
       "      <td>Суха Река</td>\n",
       "      <td>625</td>\n",
       "      <td>25</td>\n",
       "      <td>Ани Александра</td>\n",
       "    </tr>\n",
       "    <tr>\n",
       "      <th>3</th>\n",
       "      <td>7</td>\n",
       "      <td>5327809</td>\n",
       "      <td>20211118</td>\n",
       "      <td>Парцел</td>\n",
       "      <td>635</td>\n",
       "      <td>София</td>\n",
       "      <td>Казичене (с.)</td>\n",
       "      <td>72</td>\n",
       "      <td>46</td>\n",
       "      <td>частно лице</td>\n",
       "    </tr>\n",
       "    <tr>\n",
       "      <th>4</th>\n",
       "      <td>9</td>\n",
       "      <td>5562917</td>\n",
       "      <td>20211118</td>\n",
       "      <td>Едностаен апартамент</td>\n",
       "      <td>45</td>\n",
       "      <td>София</td>\n",
       "      <td>Света Троица</td>\n",
       "      <td>1333</td>\n",
       "      <td>60</td>\n",
       "      <td>Огнянова Консулт</td>\n",
       "    </tr>\n",
       "    <tr>\n",
       "      <th>...</th>\n",
       "      <td>...</td>\n",
       "      <td>...</td>\n",
       "      <td>...</td>\n",
       "      <td>...</td>\n",
       "      <td>...</td>\n",
       "      <td>...</td>\n",
       "      <td>...</td>\n",
       "      <td>...</td>\n",
       "      <td>...</td>\n",
       "      <td>...</td>\n",
       "    </tr>\n",
       "    <tr>\n",
       "      <th>5032</th>\n",
       "      <td>6565</td>\n",
       "      <td>5559640</td>\n",
       "      <td>20211118</td>\n",
       "      <td>Двустаен апартамент</td>\n",
       "      <td>75</td>\n",
       "      <td>София</td>\n",
       "      <td>Студентски Град</td>\n",
       "      <td>1200</td>\n",
       "      <td>1088</td>\n",
       "      <td>Бг Брокер</td>\n",
       "    </tr>\n",
       "    <tr>\n",
       "      <th>5033</th>\n",
       "      <td>6566</td>\n",
       "      <td>4790734</td>\n",
       "      <td>20211118</td>\n",
       "      <td>Тристаен апартамент</td>\n",
       "      <td>68</td>\n",
       "      <td>София</td>\n",
       "      <td>Център</td>\n",
       "      <td>1368</td>\n",
       "      <td>93</td>\n",
       "      <td>Нерро недвижими имоти</td>\n",
       "    </tr>\n",
       "    <tr>\n",
       "      <th>5034</th>\n",
       "      <td>6567</td>\n",
       "      <td>5562684</td>\n",
       "      <td>20211118</td>\n",
       "      <td>Двустаен апартамент</td>\n",
       "      <td>72</td>\n",
       "      <td>София</td>\n",
       "      <td>Кръстова Вада</td>\n",
       "      <td>1333</td>\n",
       "      <td>96</td>\n",
       "      <td>ЕДАЛ</td>\n",
       "    </tr>\n",
       "    <tr>\n",
       "      <th>5035</th>\n",
       "      <td>6568</td>\n",
       "      <td>5424321</td>\n",
       "      <td>20211118</td>\n",
       "      <td>Тристаен апартамент</td>\n",
       "      <td>90</td>\n",
       "      <td>София</td>\n",
       "      <td>Люлин 3</td>\n",
       "      <td>1076</td>\n",
       "      <td>896</td>\n",
       "      <td>Ависта Офис Експерт</td>\n",
       "    </tr>\n",
       "    <tr>\n",
       "      <th>5036</th>\n",
       "      <td>6569</td>\n",
       "      <td>5541985</td>\n",
       "      <td>20211118</td>\n",
       "      <td>Двустаен апартамент</td>\n",
       "      <td>102</td>\n",
       "      <td>София</td>\n",
       "      <td>Западен Парк</td>\n",
       "      <td>980</td>\n",
       "      <td>1009</td>\n",
       "      <td>Константинов Реал Естейт</td>\n",
       "    </tr>\n",
       "  </tbody>\n",
       "</table>\n",
       "<p>5037 rows × 10 columns</p>\n",
       "</div>"
      ],
      "text/plain": [
       "      index       id      date      type_of_property  area city_or_province  \\\n",
       "0         0  5516599  20211118                Парцел   543            София   \n",
       "1         2  5404649  20211118                Ателие    -2            София   \n",
       "2         3  5478372  20211118                 Гараж    -1            София   \n",
       "3         7  5327809  20211118                Парцел   635            София   \n",
       "4         9  5562917  20211118  Едностаен апартамент    45            София   \n",
       "...     ...      ...       ...                   ...   ...              ...   \n",
       "5032   6565  5559640  20211118   Двустаен апартамент    75            София   \n",
       "5033   6566  4790734  20211118   Тристаен апартамент    68            София   \n",
       "5034   6567  5562684  20211118   Двустаен апартамент    72            София   \n",
       "5035   6568  5424321  20211118   Тристаен апартамент    90            София   \n",
       "5036   6569  5541985  20211118   Двустаен апартамент   102            София   \n",
       "\n",
       "             location  price_per_m2  total_price              published_by  \n",
       "0             Сердика             3          401               частно лице  \n",
       "1             Толстой          1408          916       Ависта Офис Експерт  \n",
       "2           Суха Река           625           25            Ани Александра  \n",
       "3       Казичене (с.)            72           46               частно лице  \n",
       "4        Света Троица          1333           60          Огнянова Консулт  \n",
       "...               ...           ...          ...                       ...  \n",
       "5032  Студентски Град          1200         1088                 Бг Брокер  \n",
       "5033           Център          1368           93     Нерро недвижими имоти  \n",
       "5034    Кръстова Вада          1333           96                      ЕДАЛ  \n",
       "5035          Люлин 3          1076          896       Ависта Офис Експерт  \n",
       "5036     Западен Парк           980         1009  Константинов Реал Естейт  \n",
       "\n",
       "[5037 rows x 10 columns]"
      ]
     },
     "execution_count": 6,
     "metadata": {},
     "output_type": "execute_result"
    }
   ],
   "source": [
    "dataset_sofia"
   ]
  },
  {
   "cell_type": "code",
   "execution_count": null,
   "id": "813f825a",
   "metadata": {},
   "outputs": [],
   "source": []
  }
 ],
 "metadata": {
  "kernelspec": {
   "display_name": "Python 3",
   "language": "python",
   "name": "python3"
  },
  "language_info": {
   "codemirror_mode": {
    "name": "ipython",
    "version": 3
   },
   "file_extension": ".py",
   "mimetype": "text/x-python",
   "name": "python",
   "nbconvert_exporter": "python",
   "pygments_lexer": "ipython3",
   "version": "3.8.8"
  }
 },
 "nbformat": 4,
 "nbformat_minor": 5
}